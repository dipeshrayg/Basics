{
  "nbformat": 4,
  "nbformat_minor": 0,
  "metadata": {
    "colab": {
      "provenance": [],
      "authorship_tag": "ABX9TyM9OFEBhe0SDM5hIcJTa+Ul",
      "include_colab_link": true
    },
    "kernelspec": {
      "name": "python3",
      "display_name": "Python 3"
    },
    "language_info": {
      "name": "python"
    }
  },
  "cells": [
    {
      "cell_type": "markdown",
      "metadata": {
        "id": "view-in-github",
        "colab_type": "text"
      },
      "source": [
        "<a href=\"https://colab.research.google.com/github/dipeshrayg/Basics/blob/main/Averagescore.ipynb\" target=\"_parent\"><img src=\"https://colab.research.google.com/assets/colab-badge.svg\" alt=\"Open In Colab\"/></a>"
      ]
    },
    {
      "cell_type": "code",
      "execution_count": 1,
      "metadata": {
        "colab": {
          "base_uri": "https://localhost:8080/"
        },
        "id": "SgFY85an5yKv",
        "outputId": "5a6a7c93-12ae-4bbb-e901-7786e51616a2"
      },
      "outputs": [
        {
          "output_type": "stream",
          "name": "stdout",
          "text": [
            "enter the score for test 1:  56\n",
            "enter the score for test 2:  35\n",
            "enter the score for test 3:  25\n",
            "enter the score for test 4:  365\n",
            "the average score is 120.25\n",
            "congratulations!\n",
            "that is a great average\n",
            "congratulations!!! you have the new high score\n"
          ]
        }
      ],
      "source": [
        "#The program gets four test scores and displays the average of them\n",
        "#the high score variable holds the value that is\n",
        "high_score = 95\n",
        "\n",
        "t1= float(input('enter the score for test 1:  '))\n",
        "t2= float(input('enter the score for test 2:  '))\n",
        "t3= float(input('enter the score for test 3:  '))\n",
        "t4= float(input('enter the score for test 4:  '))\n",
        "\n",
        "#averaging and rounding the decimals to the tens\n",
        "average = (t1 + t2 + t3 + t4)/4\n",
        "Final_average= round(average,2)\n",
        "print('the average score is', Final_average)\n",
        "\n",
        "#if average is less than 70, it will show score too low\n",
        "#if the input in not numbers, it will show invalid input\n",
        "if Final_average>=70:\n",
        "    print('congratulations!')\n",
        "    print('that is a great average')\n",
        "elif average <70:\n",
        "    print('Warning! your score is too low')\n",
        "else:\n",
        "    print('invalid input')\n",
        "\n",
        "if Final_average > 95:\n",
        "    print('congratulations!!! you have the new high score')\n"
      ]
    }
  ]
}