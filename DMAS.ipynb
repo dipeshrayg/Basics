{
  "nbformat": 4,
  "nbformat_minor": 0,
  "metadata": {
    "colab": {
      "provenance": [],
      "authorship_tag": "ABX9TyMZFEpxyABVmZnm5vXyjMQp",
      "include_colab_link": true
    },
    "kernelspec": {
      "name": "python3",
      "display_name": "Python 3"
    },
    "language_info": {
      "name": "python"
    }
  },
  "cells": [
    {
      "cell_type": "markdown",
      "metadata": {
        "id": "view-in-github",
        "colab_type": "text"
      },
      "source": [
        "<a href=\"https://colab.research.google.com/github/dipeshrayg/Basics/blob/main/DMAS.ipynb\" target=\"_parent\"><img src=\"https://colab.research.google.com/assets/colab-badge.svg\" alt=\"Open In Colab\"/></a>"
      ]
    },
    {
      "cell_type": "code",
      "execution_count": 1,
      "metadata": {
        "colab": {
          "base_uri": "https://localhost:8080/"
        },
        "id": "k5arXMK-V5W0",
        "outputId": "5fa4d07d-8cf3-44f8-da8b-e5ebecb0ea7c"
      },
      "outputs": [
        {
          "name": "stdout",
          "output_type": "stream",
          "text": [
            "enter a for adding \\  enter s for subtracting \\ enter m for multiplication \\enter d for divisiond\n"
          ]
        }
      ],
      "source": [
        "ope= input(\"enter a for adding \\\\  enter s for subtracting \\\\ enter m for multiplication \\\\enter d for division\")\n",
        "\n",
        "\n",
        "if ope =='a':\n",
        "    q= int(input(' how many numbers do you want to add'))\n",
        "    for i in range(q):\n",
        "        num= int(input('enter a number',q+1))\n",
        "        sum= num + num\n",
        "\n",
        "else:\n",
        "    exit()"
      ]
    }
  ]
}