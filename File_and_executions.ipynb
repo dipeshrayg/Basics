{
  "nbformat": 4,
  "nbformat_minor": 0,
  "metadata": {
    "colab": {
      "provenance": [],
      "authorship_tag": "ABX9TyMf7EPGxR/qm1DWnE+gsp6p",
      "include_colab_link": true
    },
    "kernelspec": {
      "name": "python3",
      "display_name": "Python 3"
    },
    "language_info": {
      "name": "python"
    }
  },
  "cells": [
    {
      "cell_type": "markdown",
      "metadata": {
        "id": "view-in-github",
        "colab_type": "text"
      },
      "source": [
        "<a href=\"https://colab.research.google.com/github/dipeshrayg/Basics/blob/main/File_and_executions.ipynb\" target=\"_parent\"><img src=\"https://colab.research.google.com/assets/colab-badge.svg\" alt=\"Open In Colab\"/></a>"
      ]
    },
    {
      "cell_type": "code",
      "execution_count": null,
      "metadata": {
        "id": "kNbvxc7IJnSf"
      },
      "outputs": [],
      "source": [
        "#Files and Exception\n",
        "def main():\n",
        "  #s-1 open a file name philosophers.txt in a write mode\n",
        "  outfile = open(\"philosophers.txt\",'w')\n",
        "\n",
        "  #write the names of the philosophers\n",
        "  outfile.weite('John locke\\n')\n",
        "  outfile.write('David Hime\\n')\n",
        "  outfile.write(\"Edmind Huson\\n\")\n",
        "\n",
        "  #close the file\n",
        "  outfile.close()\n",
        "\n",
        "  print('data weitten to philosophers.txt')\n",
        "[ ]\n",
        "\n",
        "[4]\n",
        "0s\n"
      ]
    },
    {
      "cell_type": "code",
      "source": [
        "def main():\n",
        "  #s-1 open file name philoshopheres.txt in a weite mode\n",
        "  infile = open(\"philosophers.txt\", 'r')\n",
        "\n",
        "  #read the contents in the file\n",
        "  infile_contents = infile.read()\n",
        "\n",
        "  #close the file\n",
        "  infile.close()\n",
        "\n",
        "  #s-4 print the data that you have stored\n",
        "  print(file_contents)\n",
        "\n",
        "main()\n"
      ],
      "metadata": {
        "colab": {
          "base_uri": "https://localhost:8080/",
          "height": 311
        },
        "id": "zYzJgdLsP8bW",
        "outputId": "d100b285-25b4-4357-ecb9-57ad8f7d7af7"
      },
      "execution_count": null,
      "outputs": [
        {
          "output_type": "error",
          "ename": "FileNotFoundError",
          "evalue": "[Errno 2] No such file or directory: 'phillosophers.txt'",
          "traceback": [
            "\u001b[0;31m---------------------------------------------------------------------------\u001b[0m",
            "\u001b[0;31mFileNotFoundError\u001b[0m                         Traceback (most recent call last)",
            "\u001b[0;32m<ipython-input-4-1fc17550f12a>\u001b[0m in \u001b[0;36m<cell line: 0>\u001b[0;34m()\u001b[0m\n\u001b[1;32m     12\u001b[0m   \u001b[0mprint\u001b[0m\u001b[0;34m(\u001b[0m\u001b[0mfile_contents\u001b[0m\u001b[0;34m)\u001b[0m\u001b[0;34m\u001b[0m\u001b[0;34m\u001b[0m\u001b[0m\n\u001b[1;32m     13\u001b[0m \u001b[0;34m\u001b[0m\u001b[0m\n\u001b[0;32m---> 14\u001b[0;31m \u001b[0mmain\u001b[0m\u001b[0;34m(\u001b[0m\u001b[0;34m)\u001b[0m\u001b[0;34m\u001b[0m\u001b[0;34m\u001b[0m\u001b[0m\n\u001b[0m",
            "\u001b[0;32m<ipython-input-4-1fc17550f12a>\u001b[0m in \u001b[0;36mmain\u001b[0;34m()\u001b[0m\n\u001b[1;32m      1\u001b[0m \u001b[0;32mdef\u001b[0m \u001b[0mmain\u001b[0m\u001b[0;34m(\u001b[0m\u001b[0;34m)\u001b[0m\u001b[0;34m:\u001b[0m\u001b[0;34m\u001b[0m\u001b[0;34m\u001b[0m\u001b[0m\n\u001b[1;32m      2\u001b[0m   \u001b[0;31m#s-1 open file name philoshopheres.txt in a weite mode\u001b[0m\u001b[0;34m\u001b[0m\u001b[0;34m\u001b[0m\u001b[0m\n\u001b[0;32m----> 3\u001b[0;31m   \u001b[0minfile\u001b[0m \u001b[0;34m=\u001b[0m \u001b[0mopen\u001b[0m\u001b[0;34m(\u001b[0m\u001b[0;34m\"phillosophers.txt\"\u001b[0m\u001b[0;34m,\u001b[0m \u001b[0;34m'r'\u001b[0m\u001b[0;34m)\u001b[0m\u001b[0;34m\u001b[0m\u001b[0;34m\u001b[0m\u001b[0m\n\u001b[0m\u001b[1;32m      4\u001b[0m \u001b[0;34m\u001b[0m\u001b[0m\n\u001b[1;32m      5\u001b[0m   \u001b[0;31m#read the contents in the file\u001b[0m\u001b[0;34m\u001b[0m\u001b[0;34m\u001b[0m\u001b[0m\n",
            "\u001b[0;31mFileNotFoundError\u001b[0m: [Errno 2] No such file or directory: 'phillosophers.txt'"
          ]
        }
      ]
    },
    {
      "cell_type": "code",
      "source": [
        "# alex want to read it libe by line\n",
        "\n",
        "def main():\n",
        "  infile = open(\"philosophers.tzt\",'r')\n",
        "\n",
        "  line1 = infile.readline()\n",
        "  line2 = infile.readline()\n",
        "  line3 = infile.readline()\n",
        "\n",
        "  #close the file\n",
        "  infile.close()\n",
        "\n",
        "  print(line1)\n",
        "main()"
      ],
      "metadata": {
        "colab": {
          "base_uri": "https://localhost:8080/",
          "height": 311
        },
        "id": "SXp6IuW0RQuu",
        "outputId": "19cb2cca-3195-43bc-c009-67d690e728cf"
      },
      "execution_count": null,
      "outputs": [
        {
          "output_type": "error",
          "ename": "FileNotFoundError",
          "evalue": "[Errno 2] No such file or directory: 'philosophers.tzt'",
          "traceback": [
            "\u001b[0;31m---------------------------------------------------------------------------\u001b[0m",
            "\u001b[0;31mFileNotFoundError\u001b[0m                         Traceback (most recent call last)",
            "\u001b[0;32m<ipython-input-5-45e1e0f533bb>\u001b[0m in \u001b[0;36m<cell line: 0>\u001b[0;34m()\u001b[0m\n\u001b[1;32m     12\u001b[0m \u001b[0;34m\u001b[0m\u001b[0m\n\u001b[1;32m     13\u001b[0m   \u001b[0mprint\u001b[0m\u001b[0;34m(\u001b[0m\u001b[0mline1\u001b[0m\u001b[0;34m)\u001b[0m\u001b[0;34m\u001b[0m\u001b[0;34m\u001b[0m\u001b[0m\n\u001b[0;32m---> 14\u001b[0;31m \u001b[0mmain\u001b[0m\u001b[0;34m(\u001b[0m\u001b[0;34m)\u001b[0m\u001b[0;34m\u001b[0m\u001b[0;34m\u001b[0m\u001b[0m\n\u001b[0m",
            "\u001b[0;32m<ipython-input-5-45e1e0f533bb>\u001b[0m in \u001b[0;36mmain\u001b[0;34m()\u001b[0m\n\u001b[1;32m      2\u001b[0m \u001b[0;34m\u001b[0m\u001b[0m\n\u001b[1;32m      3\u001b[0m \u001b[0;32mdef\u001b[0m \u001b[0mmain\u001b[0m\u001b[0;34m(\u001b[0m\u001b[0;34m)\u001b[0m\u001b[0;34m:\u001b[0m\u001b[0;34m\u001b[0m\u001b[0;34m\u001b[0m\u001b[0m\n\u001b[0;32m----> 4\u001b[0;31m   \u001b[0minfile\u001b[0m \u001b[0;34m=\u001b[0m \u001b[0mopen\u001b[0m\u001b[0;34m(\u001b[0m\u001b[0;34m\"philosophers.tzt\"\u001b[0m\u001b[0;34m,\u001b[0m\u001b[0;34m'r'\u001b[0m\u001b[0;34m)\u001b[0m\u001b[0;34m\u001b[0m\u001b[0;34m\u001b[0m\u001b[0m\n\u001b[0m\u001b[1;32m      5\u001b[0m \u001b[0;34m\u001b[0m\u001b[0m\n\u001b[1;32m      6\u001b[0m   \u001b[0mline1\u001b[0m \u001b[0;34m=\u001b[0m \u001b[0minfile\u001b[0m\u001b[0;34m.\u001b[0m\u001b[0mreadline\u001b[0m\u001b[0;34m(\u001b[0m\u001b[0;34m)\u001b[0m\u001b[0;34m\u001b[0m\u001b[0;34m\u001b[0m\u001b[0m\n",
            "\u001b[0;31mFileNotFoundError\u001b[0m: [Errno 2] No such file or directory: 'philosophers.tzt'"
          ]
        }
      ]
    },
    {
      "cell_type": "code",
      "source": [
        "#alax wants to add some new authors int the philosophers.txt\n",
        "def main():\n",
        "  outfile= open(\"phillosophers.txt\", 'r')\n",
        "  outfile.write(\"ALbert cumons\\n\")\n",
        "\n",
        "outfile.close()"
      ],
      "metadata": {
        "id": "TFHXuZU2R7-N"
      },
      "execution_count": null,
      "outputs": []
    },
    {
      "cell_type": "code",
      "source": [
        "with open(\"philosophers.txt\", 'r') as infile:\n",
        "  content=infile.read()\n",
        "\n",
        "  print (\"upadated philosophers list: \\n\")\n",
        "  print(content)\n",
        ""
      ],
      "metadata": {
        "id": "eCb9gKoDVPvU"
      },
      "execution_count": null,
      "outputs": []
    },
    {
      "cell_type": "code",
      "source": [
        "def man():\n",
        "  infile = open(\"philosophers.txt\",'r')\n",
        "  line1 = infile.readline()\n",
        "  line2 = infile.readline()\n",
        "  line3 = infile.readline()\n",
        "\n",
        "  infile.close()\n",
        "\n",
        "  print(line1)\n",
        "  print(line2)\n",
        "  print(line3)\n",
        "main()"
      ],
      "metadata": {
        "id": "Mh4Ef6JmVkvI"
      },
      "execution_count": null,
      "outputs": []
    },
    {
      "cell_type": "code",
      "source": [
        "def main():\n",
        "  #get the number of days from the user\n",
        "  num_days = int(input(\"please enter the number of days:\"))\n",
        "\n",
        "  sales_file = open(\"sales.txt\")"
      ],
      "metadata": {
        "id": "uYfmsIcdZqVS"
      },
      "execution_count": null,
      "outputs": []
    }
  ]
}