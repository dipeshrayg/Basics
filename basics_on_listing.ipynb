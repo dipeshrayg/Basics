{
  "nbformat": 4,
  "nbformat_minor": 0,
  "metadata": {
    "colab": {
      "provenance": [],
      "authorship_tag": "ABX9TyMSNadUyYrWbpeNvRXUZ6Rh",
      "include_colab_link": true
    },
    "kernelspec": {
      "name": "python3",
      "display_name": "Python 3"
    },
    "language_info": {
      "name": "python"
    }
  },
  "cells": [
    {
      "cell_type": "markdown",
      "metadata": {
        "id": "view-in-github",
        "colab_type": "text"
      },
      "source": [
        "<a href=\"https://colab.research.google.com/github/dipeshrayg/Basics/blob/main/basics_on_listing.ipynb\" target=\"_parent\"><img src=\"https://colab.research.google.com/assets/colab-badge.svg\" alt=\"Open In Colab\"/></a>"
      ]
    },
    {
      "cell_type": "code",
      "execution_count": 5,
      "metadata": {
        "colab": {
          "base_uri": "https://localhost:8080/"
        },
        "id": "VbcvG4TBNFoE",
        "outputId": "1c324690-4f49-4b38-8005-c4b1d4c3a711"
      },
      "outputs": [
        {
          "output_type": "stream",
          "name": "stdout",
          "text": [
            "3\n",
            "grapes\n",
            "banana\n",
            "apple\n",
            "apple\n",
            "banana\n",
            "grapes\n"
          ]
        }
      ],
      "source": [
        "fruits = [\"grapes\", \"banana\", \"apple\"]\n",
        "print(len(fruits))\n",
        "\n",
        "#index\n",
        "print(fruits[0])\n",
        "print(fruits[1])\n",
        "print(fruits[2])\n",
        "\n",
        "print(fruits[-1])\n",
        "print(fruits[-2])\n",
        "print(fruits[-3])"
      ]
    },
    {
      "cell_type": "code",
      "source": [
        "even_num = [2,4,6,8]\n",
        "print(even_num)"
      ],
      "metadata": {
        "colab": {
          "base_uri": "https://localhost:8080/"
        },
        "id": "P5x-f0g3Sq9G",
        "outputId": "4226fa52-ac07-4855-c52a-5dc741e29002"
      },
      "execution_count": 6,
      "outputs": [
        {
          "output_type": "stream",
          "name": "stdout",
          "text": [
            "[2, 4, 6, 8]\n"
          ]
        }
      ]
    },
    {
      "cell_type": "markdown",
      "source": [
        "list() can convert other data types like range() into the list"
      ],
      "metadata": {
        "id": "6l1LvPa_TR3z"
      }
    },
    {
      "cell_type": "code",
      "source": [
        "number = list(range(5))\n",
        "print(number)"
      ],
      "metadata": {
        "colab": {
          "base_uri": "https://localhost:8080/"
        },
        "id": "h--uzcO4S4SB",
        "outputId": "6d65b030-0258-48a8-c206-6b25005376a0"
      },
      "execution_count": 7,
      "outputs": [
        {
          "output_type": "stream",
          "name": "stdout",
          "text": [
            "[0, 1, 2, 3, 4]\n"
          ]
        }
      ]
    },
    {
      "cell_type": "markdown",
      "source": [
        "traversing a list:\n",
        "you are going to pick every single item one by one"
      ],
      "metadata": {
        "id": "29ycEI7bTaVY"
      }
    },
    {
      "cell_type": "code",
      "source": [
        "cheese= [\"cheddar\",\"mozarella\",\"parsmen\"]\n",
        "\n",
        "#traversing the cheeses\n",
        "for cheese in cheese:\n",
        "  print(cheese)\n"
      ],
      "metadata": {
        "colab": {
          "base_uri": "https://localhost:8080/"
        },
        "id": "B1k1LnEwTIw7",
        "outputId": "8600acf4-e95e-43f1-d9d2-6f3cd37ea738"
      },
      "execution_count": 8,
      "outputs": [
        {
          "output_type": "stream",
          "name": "stdout",
          "text": [
            "cheddar\n",
            "mozarella\n",
            "parsmen\n"
          ]
        }
      ]
    },
    {
      "cell_type": "markdown",
      "source": [
        "if you want to modify or change the list"
      ],
      "metadata": {
        "id": "KUugW6a6UClZ"
      }
    },
    {
      "cell_type": "code",
      "source": [
        "cheese = [\"cheddar\",\"mozarella\",\"parsmen\"]\n",
        "\n",
        "for i in range(len(cheese)):\n",
        "  cheese[i]= cheese[i]+ \" cheese\"\n",
        "\n",
        "print(cheese)"
      ],
      "metadata": {
        "colab": {
          "base_uri": "https://localhost:8080/"
        },
        "id": "fN39hUFiUADK",
        "outputId": "1affa844-2bb3-4650-8141-63d0bde26575"
      },
      "execution_count": 10,
      "outputs": [
        {
          "output_type": "stream",
          "name": "stdout",
          "text": [
            "['cheddar cheese', 'mozarella cheese', 'parsmen cheese']\n"
          ]
        }
      ]
    },
    {
      "cell_type": "code",
      "source": [
        "#indexing\n",
        "\n",
        "numbers= [10,20,30,40]\n",
        "print(numbers[2])"
      ],
      "metadata": {
        "colab": {
          "base_uri": "https://localhost:8080/"
        },
        "id": "W2rOLsGUUdwY",
        "outputId": "44af4526-75dc-457a-e817-8ae4d84e75b7"
      },
      "execution_count": 12,
      "outputs": [
        {
          "output_type": "stream",
          "name": "stdout",
          "text": [
            "30\n"
          ]
        }
      ]
    },
    {
      "cell_type": "markdown",
      "source": [
        "looping through a list\n"
      ],
      "metadata": {
        "id": "qbtBCcOuVyKq"
      }
    },
    {
      "cell_type": "code",
      "source": [
        "#doubling each numbers in the list\n",
        "numbers = [1,2,3,4,5]\n",
        "for i in range(len(numbers)):\n",
        "  numbers[i] =numbers [i] *2\n",
        "print(numbers)\n"
      ],
      "metadata": {
        "colab": {
          "base_uri": "https://localhost:8080/"
        },
        "id": "-JvFosjnUsSK",
        "outputId": "186e0186-9d81-4773-d463-64dc2e682963"
      },
      "execution_count": 13,
      "outputs": [
        {
          "output_type": "stream",
          "name": "stdout",
          "text": [
            "[2, 4, 6, 8, 10]\n"
          ]
        }
      ]
    },
    {
      "cell_type": "code",
      "source": [
        "for x in []:\n",
        "  print(\"this never happens\")"
      ],
      "metadata": {
        "id": "WCC91K4QWWDd"
      },
      "execution_count": 14,
      "outputs": []
    },
    {
      "cell_type": "markdown",
      "source": [
        "nested list count as a single element"
      ],
      "metadata": {
        "id": "vrGPhGd7W-A5"
      }
    },
    {
      "cell_type": "code",
      "source": [
        "my_list = [\"spam\",1,[\"nirdie\",1],2.0,3]\n",
        "print(len(my_list))"
      ],
      "metadata": {
        "colab": {
          "base_uri": "https://localhost:8080/"
        },
        "id": "Uv2fyz2UW01Z",
        "outputId": "c8f6b44b-5425-4704-f121-0c3e60161e72"
      },
      "execution_count": 15,
      "outputs": [
        {
          "output_type": "stream",
          "name": "stdout",
          "text": [
            "5\n"
          ]
        }
      ]
    },
    {
      "cell_type": "markdown",
      "source": [
        "what is concatenating - joining 2 lists together\n",
        "there are 2 ways to do it:\n",
        "1- using +\n",
        "2- using +="
      ],
      "metadata": {
        "id": "bfWAdLf2XgR9"
      }
    },
    {
      "cell_type": "code",
      "source": [
        "list1 =[1,2,3]\n",
        "list2 =[4,5,6]\n",
        "final_list = list1 +list2 #1\n",
        "print(final_list)\n",
        "\n",
        "#2\n",
        "final_list += [4,4,4,4]\n",
        "print(final_list)"
      ],
      "metadata": {
        "colab": {
          "base_uri": "https://localhost:8080/"
        },
        "id": "Jfbh8U3XXT0C",
        "outputId": "47bbe553-6c87-4ba5-8eef-b256ee6affdf"
      },
      "execution_count": 17,
      "outputs": [
        {
          "output_type": "stream",
          "name": "stdout",
          "text": [
            "[1, 2, 3, 4, 5, 6]\n",
            "[1, 2, 3, 4, 5, 6, 4, 4, 4, 4]\n"
          ]
        }
      ]
    },
    {
      "cell_type": "markdown",
      "source": [
        "list * operator works\n",
        "\n",
        "repetition"
      ],
      "metadata": {
        "id": "GSbQTKwDY06H"
      }
    },
    {
      "cell_type": "code",
      "source": [
        "numbers =[1,2,3] *3\n",
        "print(numbers)"
      ],
      "metadata": {
        "colab": {
          "base_uri": "https://localhost:8080/"
        },
        "id": "dkVupq50X9Sf",
        "outputId": "db1b4525-6298-4768-cb1a-6c1f5b32ac3c"
      },
      "execution_count": 18,
      "outputs": [
        {
          "output_type": "stream",
          "name": "stdout",
          "text": [
            "[1, 2, 3, 1, 2, 3, 1, 2, 3]\n"
          ]
        }
      ]
    },
    {
      "cell_type": "markdown",
      "source": [
        "list slicing:\n"
      ],
      "metadata": {
        "id": "lISY0PA9aQp3"
      }
    },
    {
      "cell_type": "code",
      "source": [
        "days=[\"monday\",\"tuesday\",\"wednesday\",\"thursday\",\"friday\",\"saturday\",\"sunday\"]\n",
        "mid_days = days[2:3]\n",
        "print(mid_days)\n",
        "\n",
        "#syntax : list [start:end]"
      ],
      "metadata": {
        "colab": {
          "base_uri": "https://localhost:8080/"
        },
        "id": "RTqbXtavaNib",
        "outputId": "f1ac8a49-8cf0-47f7-8552-92e55ec13a54"
      },
      "execution_count": 20,
      "outputs": [
        {
          "output_type": "stream",
          "name": "stdout",
          "text": [
            "['wednesday']\n"
          ]
        }
      ]
    },
    {
      "cell_type": "markdown",
      "source": [
        "the in operator"
      ],
      "metadata": {
        "id": "xlcgdSqnbCob"
      }
    },
    {
      "cell_type": "code",
      "source": [],
      "metadata": {
        "id": "FV985CsQajrE"
      },
      "execution_count": null,
      "outputs": []
    }
  ]
}