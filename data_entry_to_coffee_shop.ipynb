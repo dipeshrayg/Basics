{
  "nbformat": 4,
  "nbformat_minor": 0,
  "metadata": {
    "colab": {
      "provenance": [],
      "authorship_tag": "ABX9TyMomJ2ej1zhVty7AqVkTO9k",
      "include_colab_link": true
    },
    "kernelspec": {
      "name": "python3",
      "display_name": "Python 3"
    },
    "language_info": {
      "name": "python"
    }
  },
  "cells": [
    {
      "cell_type": "markdown",
      "metadata": {
        "id": "view-in-github",
        "colab_type": "text"
      },
      "source": [
        "<a href=\"https://colab.research.google.com/github/dipeshrayg/Basics/blob/main/data_entry_to_coffee_shop.ipynb\" target=\"_parent\"><img src=\"https://colab.research.google.com/assets/colab-badge.svg\" alt=\"Open In Colab\"/></a>"
      ]
    },
    {
      "cell_type": "code",
      "execution_count": 1,
      "metadata": {
        "colab": {
          "base_uri": "https://localhost:8080/",
          "height": 110
        },
        "id": "-74KOJ5RgiUp",
        "outputId": "d1f7ad9a-f32c-4b8c-edd6-1d9c4b23ff47"
      },
      "outputs": [
        {
          "output_type": "error",
          "ename": "IndentationError",
          "evalue": "unexpected indent (<ipython-input-1-17c1af7bf51c>, line 4)",
          "traceback": [
            "\u001b[0;36m  File \u001b[0;32m\"<ipython-input-1-17c1af7bf51c>\"\u001b[0;36m, line \u001b[0;32m4\u001b[0m\n\u001b[0;31m    coffee_file = open('coffee.txt','a')\u001b[0m\n\u001b[0m    ^\u001b[0m\n\u001b[0;31mIndentationError\u001b[0m\u001b[0;31m:\u001b[0m unexpected indent\n"
          ]
        }
      ],
      "source": [
        "def main():\n",
        "  another ='y'\n",
        "  #open the coffee.txt in the append mode\n",
        "   coffee_file = open('coffee.txt','a')\n",
        "\n",
        "   #add records to the file\n",
        "   while another =='y' or another =='Y':\n",
        "    print (\"Enter the following coffee data:\")\n",
        "    descr = input(\"Description:\")\n",
        "    qty= int(input(\"Quantity (in kg):\"))\n",
        "\n",
        "    #write the data into the file\n",
        "\n",
        "    coffee_file.write(descr + '\\n')\n",
        "    coffee_file.write(str(qty) + '\\n')\n",
        "\n",
        "    #ask the user if he wants to add anything else or not\n",
        "    print(\"do you want to add another record:\")\n",
        "    another = input('y=yes, anything else= no:')\n",
        "\n",
        "    #close the file\n",
        "    coffee_file.close()\n",
        "    print('data appended to coffee.txt')\n",
        "\n",
        "main()"
      ]
    }
  ]
}