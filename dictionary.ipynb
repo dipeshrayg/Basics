{
  "nbformat": 4,
  "nbformat_minor": 0,
  "metadata": {
    "colab": {
      "provenance": [],
      "authorship_tag": "ABX9TyPVjImgbKbiIddB5VeIJMRm",
      "include_colab_link": true
    },
    "kernelspec": {
      "name": "python3",
      "display_name": "Python 3"
    },
    "language_info": {
      "name": "python"
    }
  },
  "cells": [
    {
      "cell_type": "markdown",
      "metadata": {
        "id": "view-in-github",
        "colab_type": "text"
      },
      "source": [
        "<a href=\"https://colab.research.google.com/github/dipeshrayg/Basics/blob/main/dictionary.ipynb\" target=\"_parent\"><img src=\"https://colab.research.google.com/assets/colab-badge.svg\" alt=\"Open In Colab\"/></a>"
      ]
    },
    {
      "cell_type": "markdown",
      "source": [
        "Key\n",
        "Value"
      ],
      "metadata": {
        "id": "50DEZSZxUrpx"
      }
    },
    {
      "cell_type": "code",
      "execution_count": null,
      "metadata": {
        "colab": {
          "base_uri": "https://localhost:8080/"
        },
        "id": "eSJVcjxPTjXj",
        "outputId": "30553052-61f1-4bab-d399-3883e8f76c3a"
      },
      "outputs": [
        {
          "output_type": "stream",
          "name": "stdout",
          "text": [
            "{'mark': '192923', 'ray': '28498', 'hayam': '45242'}\n"
          ]
        }
      ],
      "source": [
        "students = {\"mark\": \"192923\", \"ray\": \"28498\", \"hayam\": \"45242\"}\n",
        "print(students)\n"
      ]
    },
    {
      "cell_type": "code",
      "source": [
        "#second dictionary method\n",
        "\n",
        "students = {\"mark\": \"192923\", \"ray\": \"28498\", \"hayam\": \"45242\"}\n",
        "print(students)"
      ],
      "metadata": {
        "colab": {
          "base_uri": "https://localhost:8080/"
        },
        "id": "LwnoS1NMVOrX",
        "outputId": "1e9d7ff0-6989-4132-d816-bf940cbc0006"
      },
      "execution_count": null,
      "outputs": [
        {
          "output_type": "stream",
          "name": "stdout",
          "text": [
            "{'mark': '192923', 'ray': '28498', 'hayam': '45242'}\n"
          ]
        }
      ]
    },
    {
      "cell_type": "code",
      "source": [
        "#dictionaries are mutable\n",
        "students = {'mark':'4555255','humza':'352253','kamran':'254515'}\n",
        "students['bishal']='52515'\n",
        "print(students)\n"
      ],
      "metadata": {
        "colab": {
          "base_uri": "https://localhost:8080/"
        },
        "id": "n7adFg8bWOsf",
        "outputId": "e84c71d9-7951-41f2-ddf8-8f1145fc7bf0"
      },
      "execution_count": null,
      "outputs": [
        {
          "output_type": "stream",
          "name": "stdout",
          "text": [
            "{'mark': '4555255', 'humza': '352253', 'kamran': '254515', 'bishal': '52515'}\n"
          ]
        }
      ]
    },
    {
      "cell_type": "code",
      "source": [
        "#delete a value from a list\n",
        "students= {'mark':'4555255','humza':'352253','kamran':'254515'}\n",
        "if'ayush' in students:\n",
        "  del students['humza']\n",
        "print(students)"
      ],
      "metadata": {
        "colab": {
          "base_uri": "https://localhost:8080/"
        },
        "id": "gZAaJd2vaTSa",
        "outputId": "37662778-db60-4d74-8492-a61b1df68f51"
      },
      "execution_count": null,
      "outputs": [
        {
          "output_type": "stream",
          "name": "stdout",
          "text": [
            "{'mark': '4555255', 'humza': '352253', 'kamran': '254515'}\n"
          ]
        }
      ]
    },
    {
      "cell_type": "code",
      "source": [
        "#list of planets\n",
        "planets =[\"mercury\",'venus','earth','mars','jupiter','saturn','uranus','neptune']\n",
        "\n",
        "#create an empty dictionary\n",
        "planet_to_initial ={}\n",
        "\n",
        "for planet in planets:\n",
        "  planet_to_initial[planet]=planet[0]\n",
        "print(planet_to_initial)"
      ],
      "metadata": {
        "colab": {
          "base_uri": "https://localhost:8080/"
        },
        "id": "N96fXLaJaw0t",
        "outputId": "791005fd-88b3-469b-8f44-06016fb07fd5"
      },
      "execution_count": null,
      "outputs": [
        {
          "output_type": "stream",
          "name": "stdout",
          "text": [
            "{'mercury': 'm', 'venus': 'v', 'earth': 'e', 'mars': 'm', 'jupiter': 'j', 'saturn': 's', 'uranus': 'u', 'neptune': 'n'}\n"
          ]
        }
      ]
    },
    {
      "cell_type": "code",
      "source": [
        "#clear method :dictionary.clear()\n",
        "students= {'mark':'4555255','humza':'352253','kamran':'254515'}\n",
        "students.clear()\n",
        "print(students)"
      ],
      "metadata": {
        "colab": {
          "base_uri": "https://localhost:8080/"
        },
        "id": "QQAozpg_bYAX",
        "outputId": "c1fe8b88-bfc2-45c9-eec8-d8c9536b74ce"
      },
      "execution_count": null,
      "outputs": [
        {
          "output_type": "stream",
          "name": "stdout",
          "text": [
            "{}\n"
          ]
        }
      ]
    },
    {
      "cell_type": "code",
      "source": [
        "#fet method : dictionary.get()\n",
        "students= {'mark':'4555255','humza':'352253','kamran':'254515'}\n",
        "print(students.get('mark'))"
      ],
      "metadata": {
        "colab": {
          "base_uri": "https://localhost:8080/"
        },
        "id": "OlpW4bOlcf2d",
        "outputId": "b8c2e1b1-da7d-47be-cf37-29794ad70373"
      },
      "execution_count": null,
      "outputs": [
        {
          "output_type": "stream",
          "name": "stdout",
          "text": [
            "4555255\n"
          ]
        }
      ]
    },
    {
      "cell_type": "code",
      "source": [
        "#items method: dictionary.item()\n",
        "students= {'mark':'4555255','humza':'352253','kamran':'254515'}\n",
        "print(students.items())"
      ],
      "metadata": {
        "colab": {
          "base_uri": "https://localhost:8080/"
        },
        "id": "bY6ODv5ncnl3",
        "outputId": "f653bca7-d27b-422f-aaec-81fe65bcb1a1"
      },
      "execution_count": null,
      "outputs": [
        {
          "output_type": "stream",
          "name": "stdout",
          "text": [
            "dict_items([('mark', '4555255'), ('humza', '352253'), ('kamran', '254515')])\n"
          ]
        }
      ]
    },
    {
      "cell_type": "code",
      "source": [
        "#asking for loop in the item()\n",
        "#asking for loop in the item()\n",
        "\n",
        "students = {'mark':'4555255','humza':'352253','kamran':'254515'}\n",
        "for key, value in students.items():\n",
        "  print(key,value)\n"
      ],
      "metadata": {
        "colab": {
          "base_uri": "https://localhost:8080/"
        },
        "id": "0Vn2B2Q3dKW6",
        "outputId": "8edeecbe-59e6-418a-c1da-cc0d8991b7bf"
      },
      "execution_count": null,
      "outputs": [
        {
          "output_type": "stream",
          "name": "stdout",
          "text": [
            "mark 4555255\n",
            "humza 352253\n",
            "kamran 254515\n"
          ]
        }
      ]
    },
    {
      "cell_type": "code",
      "source": [
        "#keys ()method :dictionary.key()\n",
        "students= {'mark':'4555255','humza':'352253','kamran':'254515'}\n",
        "print(students.keys())"
      ],
      "metadata": {
        "colab": {
          "base_uri": "https://localhost:8080/"
        },
        "id": "oyOKaRfadh4S",
        "outputId": "d40d42eb-88ef-49ef-8682-01a111103dd5"
      },
      "execution_count": null,
      "outputs": [
        {
          "output_type": "stream",
          "name": "stdout",
          "text": [
            "dict_keys(['mark', 'humza', 'kamran'])\n"
          ]
        }
      ]
    },
    {
      "cell_type": "code",
      "source": [
        "# pop() method\n",
        "\n",
        "students= {'mark':'4555255','humza':'352253','kamran':'254515'}\n",
        "students.pop('humza')\n",
        "print(students)\n"
      ],
      "metadata": {
        "colab": {
          "base_uri": "https://localhost:8080/"
        },
        "id": "Yy-zhHRdfcIh",
        "outputId": "5e15c65e-7499-4e3e-9b0c-58a8a9a8f55c"
      },
      "execution_count": null,
      "outputs": [
        {
          "output_type": "stream",
          "name": "stdout",
          "text": [
            "{'mark': '4555255', 'kamran': '254515'}\n"
          ]
        }
      ]
    },
    {
      "cell_type": "code",
      "source": [
        "# Set form a string\n",
        "\n",
        "set1 = set('h e l l o')\n",
        "print(set1)"
      ],
      "metadata": {
        "colab": {
          "base_uri": "https://localhost:8080/"
        },
        "id": "lQBjld2ffpff",
        "outputId": "cad1fedb-ca03-4d36-c464-f2575c6ea8ed"
      },
      "execution_count": null,
      "outputs": [
        {
          "output_type": "stream",
          "name": "stdout",
          "text": [
            "{'o', 'h', ' ', 'l', 'e'}\n"
          ]
        }
      ]
    },
    {
      "cell_type": "code",
      "source": [
        "# another method to create set : use curly braces {} to create a set directly\n",
        "\n",
        "my_set = ('History','Math','Physics','CompSci')\n",
        "print(my_set)"
      ],
      "metadata": {
        "colab": {
          "base_uri": "https://localhost:8080/"
        },
        "id": "oAleFvAamq3W",
        "outputId": "7c919fa3-67b5-4175-fadc-367e57ade4cb"
      },
      "execution_count": null,
      "outputs": [
        {
          "output_type": "stream",
          "name": "stdout",
          "text": [
            "('History', 'Math', 'Physics', 'CompSci')\n"
          ]
        }
      ]
    },
    {
      "cell_type": "code",
      "source": [
        "#what kind of vlaues we can insert in a set\n",
        "\n",
        "x= {42,'food',3.14,43,'true'}\n",
        "print(x)"
      ],
      "metadata": {
        "colab": {
          "base_uri": "https://localhost:8080/"
        },
        "id": "cmK7w1iSm_cR",
        "outputId": "86b499c2-df2a-4975-f6d1-715fe29ab285"
      },
      "execution_count": null,
      "outputs": [
        {
          "output_type": "stream",
          "name": "stdout",
          "text": [
            "{3.14, 'true', 'food', 42, 43}\n"
          ]
        }
      ]
    },
    {
      "cell_type": "code",
      "source": [
        "#set must be imitable\n",
        "\n",
        "my_set = {1,2,(3,4)}\n",
        "my_set\n",
        "print(my_set)"
      ],
      "metadata": {
        "colab": {
          "base_uri": "https://localhost:8080/"
        },
        "id": "7FTDH2YQnU4k",
        "outputId": "6b264e98-cf49-49e6-8191-7b7456076448"
      },
      "execution_count": null,
      "outputs": [
        {
          "output_type": "stream",
          "name": "stdout",
          "text": [
            "{1, 2, (3, 4)}\n"
          ]
        }
      ]
    },
    {
      "cell_type": "code",
      "source": [
        "#set size and members\n",
        "len(my_set)"
      ],
      "metadata": {
        "colab": {
          "base_uri": "https://localhost:8080/"
        },
        "id": "G-r95SJRoIQR",
        "outputId": "b096c161-e2ed-4108-8cb1-9cb1c9c657d4"
      },
      "execution_count": null,
      "outputs": [
        {
          "output_type": "execute_result",
          "data": {
            "text/plain": [
              "3"
            ]
          },
          "metadata": {},
          "execution_count": 35
        }
      ]
    },
    {
      "cell_type": "code",
      "source": [
        "#how to check if the value or data in the set or not (membership)\n",
        "\n",
        "x={42, 'food',3.14,43,'true'}\n",
        "\n",
        "print(42 in x)\n",
        "print(42 not in x)"
      ],
      "metadata": {
        "colab": {
          "base_uri": "https://localhost:8080/"
        },
        "id": "a2N_aX8yoSsI",
        "outputId": "e3dcc51a-bc57-4551-a70d-850b73484811"
      },
      "execution_count": null,
      "outputs": [
        {
          "output_type": "stream",
          "name": "stdout",
          "text": [
            "True\n",
            "False\n"
          ]
        }
      ]
    },
    {
      "cell_type": "code",
      "source": [
        "#operating on sets :union type\n",
        "A={1,2,3,4,5}\n",
        "B={4,5,6,7,8}\n",
        "print(A|B)"
      ],
      "metadata": {
        "id": "5xDc9toVokOH",
        "colab": {
          "base_uri": "https://localhost:8080/"
        },
        "outputId": "e06b8d36-1c5e-4b83-882d-ab07d1dded24"
      },
      "execution_count": null,
      "outputs": [
        {
          "output_type": "stream",
          "name": "stdout",
          "text": [
            "{1, 2, 3, 4, 5, 6, 7, 8}\n"
          ]
        }
      ]
    },
    {
      "cell_type": "code",
      "source": [
        "#intersection of a set type\n",
        "A={1,2,3,4,5}\n",
        "B={4,5,6,7,8}\n",
        "A&B\n"
      ],
      "metadata": {
        "colab": {
          "base_uri": "https://localhost:8080/"
        },
        "id": "uFMA5a-ipCyX",
        "outputId": "48b60a17-bde1-4b62-bf2f-53790a01f08b"
      },
      "execution_count": null,
      "outputs": [
        {
          "output_type": "execute_result",
          "data": {
            "text/plain": [
              "{4, 5}"
            ]
          },
          "metadata": {},
          "execution_count": 40
        }
      ]
    },
    {
      "cell_type": "code",
      "source": [
        "#difference in sets\n",
        "A= {1,2,3,4,5}\n",
        "B={4,5,6,7,8}\n",
        "A-B"
      ],
      "metadata": {
        "colab": {
          "base_uri": "https://localhost:8080/"
        },
        "id": "I9VHdJQepOBV",
        "outputId": "b2b4c3b7-324c-427a-9f39-47d8eb6d3364"
      },
      "execution_count": null,
      "outputs": [
        {
          "output_type": "execute_result",
          "data": {
            "text/plain": [
              "{1, 2, 3}"
            ]
          },
          "metadata": {},
          "execution_count": 41
        }
      ]
    },
    {
      "cell_type": "code",
      "source": [
        "#modify a set with add() and update()\n",
        "\n",
        "my_set = {1,2,3,4,5}\n",
        "my_set.add(6)\n",
        "print(my_set)"
      ],
      "metadata": {
        "colab": {
          "base_uri": "https://localhost:8080/"
        },
        "id": "wh8CoCodpUvM",
        "outputId": "2b098b86-b949-4c7d-99b5-b449e5e471a6"
      },
      "execution_count": null,
      "outputs": [
        {
          "output_type": "stream",
          "name": "stdout",
          "text": [
            "{1, 2, 3, 4, 5, 6}\n"
          ]
        }
      ]
    },
    {
      "cell_type": "code",
      "source": [
        "#UPDATE ()a set\n",
        "\n",
        "my_set = {1,2,3,4,5}\n",
        "my_set.update([6,7,8])\n",
        "print(my_set)"
      ],
      "metadata": {
        "colab": {
          "base_uri": "https://localhost:8080/"
        },
        "id": "fG-IDxpkphJS",
        "outputId": "ff466c0e-b003-4899-eff8-30e75609b45d"
      },
      "execution_count": null,
      "outputs": [
        {
          "output_type": "stream",
          "name": "stdout",
          "text": [
            "{1, 2, 3, 4, 5, 6, 7, 8}\n"
          ]
        }
      ]
    },
    {
      "cell_type": "code",
      "source": [
        "#delete sets remove()\n",
        "my_set = {1,2,3,4,5}\n",
        "my_set.remove(3)\n",
        "print(my_set)"
      ],
      "metadata": {
        "colab": {
          "base_uri": "https://localhost:8080/"
        },
        "id": "Ss6DJ2gSpm4O",
        "outputId": "baf21b15-8142-4c54-ebf4-f2cf9da23c76"
      },
      "execution_count": null,
      "outputs": [
        {
          "output_type": "stream",
          "name": "stdout",
          "text": [
            "{1, 2, 4, 5}\n"
          ]
        }
      ]
    },
    {
      "cell_type": "code",
      "source": [],
      "metadata": {
        "id": "7sxx-_GBp3-2"
      },
      "execution_count": null,
      "outputs": []
    }
  ]
}