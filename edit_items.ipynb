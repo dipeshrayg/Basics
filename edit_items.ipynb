{
  "nbformat": 4,
  "nbformat_minor": 0,
  "metadata": {
    "colab": {
      "provenance": [],
      "authorship_tag": "ABX9TyOitBW85cnn48V8/pOIimhA",
      "include_colab_link": true
    },
    "kernelspec": {
      "name": "python3",
      "display_name": "Python 3"
    },
    "language_info": {
      "name": "python"
    }
  },
  "cells": [
    {
      "cell_type": "markdown",
      "metadata": {
        "id": "view-in-github",
        "colab_type": "text"
      },
      "source": [
        "<a href=\"https://colab.research.google.com/github/dipeshrayg/Basics/blob/main/edit_items.ipynb\" target=\"_parent\"><img src=\"https://colab.research.google.com/assets/colab-badge.svg\" alt=\"Open In Colab\"/></a>"
      ]
    },
    {
      "cell_type": "markdown",
      "source": [],
      "metadata": {
        "id": "FePKF6AWgD9k"
      }
    },
    {
      "cell_type": "markdown",
      "source": [
        "append or add item in a list"
      ],
      "metadata": {
        "id": "_H-esuWYgfp5"
      }
    },
    {
      "cell_type": "code",
      "execution_count": 2,
      "metadata": {
        "colab": {
          "base_uri": "https://localhost:8080/"
        },
        "id": "-j1NSmlfgDAA",
        "outputId": "fe1951b4-ec55-4f51-e8bb-2fa782e36482"
      },
      "outputs": [
        {
          "output_type": "stream",
          "name": "stdout",
          "text": [
            "3\n"
          ]
        }
      ],
      "source": [
        "courses = ['maths','english', 'science']\n",
        "courses.append('art')\n",
        "print(courses.index('art'))"
      ]
    },
    {
      "cell_type": "code",
      "source": [
        "fruits =['apple','banana','cherry']\n",
        "fruits.insert(1,'orange')\n",
        "print(fruits)\n"
      ],
      "metadata": {
        "colab": {
          "base_uri": "https://localhost:8080/"
        },
        "id": "-IE5g-dggXXv",
        "outputId": "c34b00dd-36a0-445f-bc41-f2155c35f839"
      },
      "execution_count": 3,
      "outputs": [
        {
          "output_type": "stream",
          "name": "stdout",
          "text": [
            "['apple', 'orange', 'banana', 'cherry']\n"
          ]
        }
      ]
    },
    {
      "cell_type": "markdown",
      "source": [
        "Ascending and descending order"
      ],
      "metadata": {
        "id": "Lp_4EC5Ehge5"
      }
    },
    {
      "cell_type": "code",
      "source": [
        "numbers =[5,2,9,1,4]\n",
        "numbers.sort()\n",
        "print(numbers)\n",
        "\n",
        "numbers.sort(reverse=True)\n",
        "print(numbers)"
      ],
      "metadata": {
        "colab": {
          "base_uri": "https://localhost:8080/"
        },
        "id": "SpH4BI7ag_Q5",
        "outputId": "dc5d7f82-7bc5-4bd6-b208-5ddf1cb3a6d2"
      },
      "execution_count": 4,
      "outputs": [
        {
          "output_type": "stream",
          "name": "stdout",
          "text": [
            "[1, 2, 4, 5, 9]\n",
            "[9, 5, 4, 2, 1]\n"
          ]
        }
      ]
    },
    {
      "cell_type": "markdown",
      "source": [
        "Remove items from list"
      ],
      "metadata": {
        "id": "9o3-xYwRhkRN"
      }
    },
    {
      "cell_type": "code",
      "source": [
        "fruits =['apple','banana','cherry','banana']\n",
        "fruits.remove('banana')\n",
        "print(fruits)"
      ],
      "metadata": {
        "colab": {
          "base_uri": "https://localhost:8080/"
        },
        "id": "z1M7dXCRhfSm",
        "outputId": "acfb3011-f5d4-4954-eca7-b081a1428253"
      },
      "execution_count": 5,
      "outputs": [
        {
          "output_type": "stream",
          "name": "stdout",
          "text": [
            "['apple', 'cherry', 'banana']\n"
          ]
        }
      ]
    },
    {
      "cell_type": "markdown",
      "source": [
        "reversing the list"
      ],
      "metadata": {
        "id": "NsrriShFiCss"
      }
    },
    {
      "cell_type": "code",
      "source": [
        "numbers=[1,2,3,4,5,6,7]\n",
        "numbers.reverse()\n",
        "print(numbers)"
      ],
      "metadata": {
        "colab": {
          "base_uri": "https://localhost:8080/"
        },
        "id": "ushA1JIUhygm",
        "outputId": "234e8932-cfd3-401f-85df-772a872f9987"
      },
      "execution_count": 8,
      "outputs": [
        {
          "output_type": "stream",
          "name": "stdout",
          "text": [
            "[7, 6, 5, 4, 3, 2, 1]\n"
          ]
        }
      ]
    },
    {
      "cell_type": "markdown",
      "source": [
        "delete any element from the list of numbers"
      ],
      "metadata": {
        "id": "UKre6peNiTET"
      }
    },
    {
      "cell_type": "code",
      "source": [
        "numbers =[10,20,30,40,50,60]\n",
        "del numbers[2]\n",
        "print(numbers)"
      ],
      "metadata": {
        "colab": {
          "base_uri": "https://localhost:8080/"
        },
        "id": "mjkXYT5Nh92c",
        "outputId": "fa43ea84-33dd-432b-ae00-e8ac784d574d"
      },
      "execution_count": 9,
      "outputs": [
        {
          "output_type": "stream",
          "name": "stdout",
          "text": [
            "[10, 20, 40, 50, 60]\n"
          ]
        }
      ]
    },
    {
      "cell_type": "code",
      "source": [],
      "metadata": {
        "id": "OxcOcKI1iR-h"
      },
      "execution_count": null,
      "outputs": []
    }
  ]
}