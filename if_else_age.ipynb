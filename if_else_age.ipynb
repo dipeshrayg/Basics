{
  "nbformat": 4,
  "nbformat_minor": 0,
  "metadata": {
    "colab": {
      "provenance": [],
      "authorship_tag": "ABX9TyOh5MaikqGuD3z+GydPqBcj",
      "include_colab_link": true
    },
    "kernelspec": {
      "name": "python3",
      "display_name": "Python 3"
    },
    "language_info": {
      "name": "python"
    }
  },
  "cells": [
    {
      "cell_type": "markdown",
      "metadata": {
        "id": "view-in-github",
        "colab_type": "text"
      },
      "source": [
        "<a href=\"https://colab.research.google.com/github/dipeshrayg/Basics/blob/main/if_else_age.ipynb\" target=\"_parent\"><img src=\"https://colab.research.google.com/assets/colab-badge.svg\" alt=\"Open In Colab\"/></a>"
      ]
    },
    {
      "cell_type": "code",
      "execution_count": null,
      "metadata": {
        "colab": {
          "base_uri": "https://localhost:8080/"
        },
        "id": "zPxzL7R8eD9E",
        "outputId": "c41a587a-c24b-48c8-8ba7-1d86f8d4a471"
      },
      "outputs": [
        {
          "output_type": "stream",
          "name": "stdout",
          "text": [
            "what is your age45\n",
            " adult THANK YOU\n"
          ]
        }
      ],
      "source": [
        "age=int(input('what is your age'))\n",
        "greet=\"THANK YOU\"\n",
        "if age<18 and age>1:\n",
        "    print('a minor',greet)\n",
        "elif age>=60:\n",
        "    print('senor citizen', greet)\n",
        "elif age>=18 and age<60:\n",
        "    print(' adult',greet)\n",
        "else:\n",
        "    print('invalid age',greet)\n",
        "\n",
        "\n",
        "checker =int(input('what is your age:'))\n",
        "if 18<= checker <= 60:\n",
        "    print('you are allowed')\n",
        "else:\n",
        "    print('you are not allwed')\n",
        "\n"
      ]
    }
  ]
}